{
 "cells": [
  {
   "cell_type": "code",
   "execution_count": 6,
   "id": "40761bcf",
   "metadata": {},
   "outputs": [],
   "source": [
    "import requests as rq # this library is used to request html in python\n",
    "from bs4 import BeautifulSoup as bs # this is a library that makes it easy to scrape information from web pages"
   ]
  },
  {
   "cell_type": "code",
   "execution_count": 7,
   "id": "ca832e2c",
   "metadata": {},
   "outputs": [
    {
     "name": "stdout",
     "output_type": "stream",
     "text": [
      "https://avatars.githubusercontent.com/u/78184954?v=4\n"
     ]
    }
   ],
   "source": [
    "github_profile = \"https://github.com/maresdas\"\n",
    "req = rq.get(github_profile)\n",
    "scraper = bs(req.content, \"html.parser\")\n",
    "profile_picture = scraper.find(\"img\", {\"alt\": \"Avatar\"})[\"src\"]\n",
    "print(profile_picture)"
   ]
  },
  {
   "cell_type": "code",
   "execution_count": null,
   "id": "85a08fc9",
   "metadata": {},
   "outputs": [],
   "source": []
  },
  {
   "cell_type": "code",
   "execution_count": null,
   "id": "45f12776",
   "metadata": {},
   "outputs": [],
   "source": []
  }
 ],
 "metadata": {
  "kernelspec": {
   "display_name": "Python 3 (ipykernel)",
   "language": "python",
   "name": "python3"
  },
  "language_info": {
   "codemirror_mode": {
    "name": "ipython",
    "version": 3
   },
   "file_extension": ".py",
   "mimetype": "text/x-python",
   "name": "python",
   "nbconvert_exporter": "python",
   "pygments_lexer": "ipython3",
   "version": "3.9.6"
  }
 },
 "nbformat": 4,
 "nbformat_minor": 5
}
