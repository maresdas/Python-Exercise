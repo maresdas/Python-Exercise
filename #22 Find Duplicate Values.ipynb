{
 "cells": [
  {
   "cell_type": "code",
   "execution_count": 135,
   "id": "59e060b7",
   "metadata": {},
   "outputs": [
    {
     "name": "stdout",
     "output_type": "stream",
     "text": [
      "['Mares', 'Mars', 'Ares', 'Atria', 'Boy']\n"
     ]
    }
   ],
   "source": [
    "def find_duplicates(x):\n",
    "    length = len(x)\n",
    "    duplicates = []\n",
    "    for i in range(length):\n",
    "        n = i + 1\n",
    "        for a in range(n, length):\n",
    "            if x[i] == x[a] and x[i] not in duplicates:\n",
    "                duplicates.append(x[i])\n",
    "    return duplicates\n",
    "names = [\"Mares\", \"Mares\", \"Mares\", \"Mars\", \"Mars\", \"Mars\", \"Mars\", \"Mars\", \"Mars\", \"Ares\", \"Atria\", \"Atria\", \"Boy\", \"Boy\", \"Boy\", \"Boy\", \"Ares\"]\n",
    "print(find_duplicates(names))"
   ]
  },
  {
   "cell_type": "code",
   "execution_count": null,
   "id": "dc97d325",
   "metadata": {},
   "outputs": [],
   "source": []
  }
 ],
 "metadata": {
  "kernelspec": {
   "display_name": "Python 3 (ipykernel)",
   "language": "python",
   "name": "python3"
  },
  "language_info": {
   "codemirror_mode": {
    "name": "ipython",
    "version": 3
   },
   "file_extension": ".py",
   "mimetype": "text/x-python",
   "name": "python",
   "nbconvert_exporter": "python",
   "pygments_lexer": "ipython3",
   "version": "3.9.15"
  }
 },
 "nbformat": 4,
 "nbformat_minor": 5
}
