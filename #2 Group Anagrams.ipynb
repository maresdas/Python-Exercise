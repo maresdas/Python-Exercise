{
 "cells": [
  {
   "cell_type": "code",
   "execution_count": 35,
   "id": "a887321d",
   "metadata": {},
   "outputs": [],
   "source": [
    "# Infe source: https://docs.python.org/3/library/collections.html\n",
    "# This module implement specialized container datatypes providing alternatives to Python's general purpose built-in containers, dict, list, set, and tuple.\n",
    "# defaultdit = dict sublass that calls a factory function to supply missing values. Return a new dictionary-like object.\n",
    "from collections import defaultdict"
   ]
  },
  {
   "cell_type": "code",
   "execution_count": 36,
   "id": "89494177",
   "metadata": {},
   "outputs": [],
   "source": [
    "def group_anagrams(a):\n",
    "    dfdict = defaultdict(list)\n",
    "    for i in a:\n",
    "        sorted_i = \" \".join(sorted(i)) # .join() method takes all items in an iterable and joins them into one string; sorted() function returns a sorted list of the specified iterable object.\n",
    "        dfdict[sorted_i].append(i) # .append(x):add x to the right side of the deque\n",
    "    return dfdict.values() # values() method returns a view object"
   ]
  },
  {
   "cell_type": "code",
   "execution_count": 37,
   "id": "234ab606",
   "metadata": {},
   "outputs": [
    {
     "name": "stdout",
     "output_type": "stream",
     "text": [
      "dict_values([['tea', 'eat', 'ate'], ['thin', 'hint'], ['bat', 'tab'], ['night'], ['arc', 'car']])\n"
     ]
    }
   ],
   "source": [
    "words = [\"tea\", \"eat\", \"thin\", \"bat\", \"hint\", \"night\", \"tab\", \"ate\", \"arc\", \"car\"]\n",
    "print(group_anagrams(words))"
   ]
  },
  {
   "cell_type": "code",
   "execution_count": null,
   "id": "5f785e19",
   "metadata": {},
   "outputs": [],
   "source": []
  },
  {
   "cell_type": "code",
   "execution_count": null,
   "id": "44152054",
   "metadata": {},
   "outputs": [],
   "source": []
  },
  {
   "cell_type": "code",
   "execution_count": null,
   "id": "be9cdb5c",
   "metadata": {},
   "outputs": [],
   "source": []
  },
  {
   "cell_type": "code",
   "execution_count": null,
   "id": "74acde80",
   "metadata": {},
   "outputs": [],
   "source": []
  }
 ],
 "metadata": {
  "kernelspec": {
   "display_name": "Python 3 (ipykernel)",
   "language": "python",
   "name": "python3"
  },
  "language_info": {
   "codemirror_mode": {
    "name": "ipython",
    "version": 3
   },
   "file_extension": ".py",
   "mimetype": "text/x-python",
   "name": "python",
   "nbconvert_exporter": "python",
   "pygments_lexer": "ipython3",
   "version": "3.9.6"
  }
 },
 "nbformat": 4,
 "nbformat_minor": 5
}
