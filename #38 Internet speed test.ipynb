{
 "cells": [
  {
   "cell_type": "code",
   "execution_count": 1,
   "id": "6fd20ea6",
   "metadata": {},
   "outputs": [
    {
     "name": "stdout",
     "output_type": "stream",
     "text": [
      "Wifi Download Speed is 72765268.86737284\n",
      "Wifi Upload Speed is 8745899.077261686\n"
     ]
    }
   ],
   "source": [
    "import speedtest\n",
    "wifi = speedtest.Speedtest()\n",
    "print(\"Wifi Download Speed is\", wifi.download())\n",
    "print(\"Wifi Upload Speed is\", wifi.upload())"
   ]
  },
  {
   "cell_type": "code",
   "execution_count": null,
   "id": "cb237771",
   "metadata": {},
   "outputs": [],
   "source": []
  }
 ],
 "metadata": {
  "kernelspec": {
   "display_name": "Python 3 (ipykernel)",
   "language": "python",
   "name": "python3"
  },
  "language_info": {
   "codemirror_mode": {
    "name": "ipython",
    "version": 3
   },
   "file_extension": ".py",
   "mimetype": "text/x-python",
   "name": "python",
   "nbconvert_exporter": "python",
   "pygments_lexer": "ipython3",
   "version": "3.9.15"
  }
 },
 "nbformat": 4,
 "nbformat_minor": 5
}
