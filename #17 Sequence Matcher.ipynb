{
 "cells": [
  {
   "cell_type": "code",
   "execution_count": 8,
   "id": "cdb496b9",
   "metadata": {},
   "outputs": [],
   "source": [
    "#difflib is a module that provides classes and functions for comparing sequences\n",
    "#SequenceMatcher is a flexible class for comparing pairs of sequences of any type, so long as th sequence elements are hashable\n",
    "from difflib import SequenceMatcher"
   ]
  },
  {
   "cell_type": "code",
   "execution_count": 9,
   "id": "05d16de6",
   "metadata": {},
   "outputs": [
    {
     "name": "stdout",
     "output_type": "stream",
     "text": [
      "Both are 88.88888888888889 % similar\n"
     ]
    }
   ],
   "source": [
    "text1 = \"My name is Maresda Satria\"\n",
    "text2 = \"Hi, my name is Maresda Satria\"\n",
    "sequenceScore = SequenceMatcher(None, text1, text2).ratio()\n",
    "print(f\"Both are {sequenceScore*100} % similar\" ) #f here is a formatted string literal"
   ]
  },
  {
   "cell_type": "code",
   "execution_count": null,
   "id": "c823456c",
   "metadata": {},
   "outputs": [],
   "source": []
  }
 ],
 "metadata": {
  "kernelspec": {
   "display_name": "Python 3 (ipykernel)",
   "language": "python",
   "name": "python3"
  },
  "language_info": {
   "codemirror_mode": {
    "name": "ipython",
    "version": 3
   },
   "file_extension": ".py",
   "mimetype": "text/x-python",
   "name": "python",
   "nbconvert_exporter": "python",
   "pygments_lexer": "ipython3",
   "version": "3.9.15"
  }
 },
 "nbformat": 4,
 "nbformat_minor": 5
}
