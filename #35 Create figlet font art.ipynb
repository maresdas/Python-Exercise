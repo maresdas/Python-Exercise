{
 "cells": [
  {
   "cell_type": "code",
   "execution_count": 1,
   "id": "9621481b",
   "metadata": {},
   "outputs": [
    {
     "name": "stdout",
     "output_type": "stream",
     "text": [
      " ___                             ____        _        \n",
      "|_ _|   __ _ _ __ ___     __ _  |  _ \\  __ _| |_ __ _ \n",
      " | |   / _` | '_ ` _ \\   / _` | | | | |/ _` | __/ _` |\n",
      " | |  | (_| | | | | | | | (_| | | |_| | (_| | || (_| |\n",
      "|___|  \\__,_|_| |_| |_|  \\__,_| |____/ \\__,_|\\__\\__,_|\n",
      "                                                      \n",
      " ____       _            _   _     _   \n",
      "/ ___|  ___(_) ___ _ __ | |_(_)___| |_ \n",
      "\\___ \\ / __| |/ _ \\ '_ \\| __| / __| __|\n",
      " ___) | (__| |  __/ | | | |_| \\__ \\ |_ \n",
      "|____/ \\___|_|\\___|_| |_|\\__|_|___/\\__|\n",
      "                                       \n",
      "\n"
     ]
    }
   ],
   "source": [
    "import pyfiglet\n",
    "font = pyfiglet.figlet_format('I am a Data Scientist')\n",
    "print(font)"
   ]
  },
  {
   "cell_type": "code",
   "execution_count": null,
   "id": "18a0189c",
   "metadata": {},
   "outputs": [],
   "source": []
  }
 ],
 "metadata": {
  "kernelspec": {
   "display_name": "Python 3 (ipykernel)",
   "language": "python",
   "name": "python3"
  },
  "language_info": {
   "codemirror_mode": {
    "name": "ipython",
    "version": 3
   },
   "file_extension": ".py",
   "mimetype": "text/x-python",
   "name": "python",
   "nbconvert_exporter": "python",
   "pygments_lexer": "ipython3",
   "version": "3.9.15"
  }
 },
 "nbformat": 4,
 "nbformat_minor": 5
}
