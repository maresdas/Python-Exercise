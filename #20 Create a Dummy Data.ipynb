{
 "cells": [
  {
   "cell_type": "code",
   "execution_count": 7,
   "id": "0b2985f2",
   "metadata": {},
   "outputs": [],
   "source": [
    "#As its' name, faker generates fake data\n",
    "from faker import Faker\n",
    "import pandas as pd\n",
    "fake = Faker()"
   ]
  },
  {
   "cell_type": "code",
   "execution_count": 8,
   "id": "44bdcde0",
   "metadata": {},
   "outputs": [
    {
     "name": "stdout",
     "output_type": "stream",
     "text": [
      "Angela Young\n",
      "73408 Shelton Grove Apt. 152\n",
      "North Davidville, VT 80342\n",
      "Expect discuss focus over. Deep community stand.\n",
      "Artist call support age. Experience speech produce rate indeed well be mean.\n",
      "Exactly current guess business. Serious dinner get too save keep.\n"
     ]
    }
   ],
   "source": [
    "print(fake.name())\n",
    "print(fake.address())\n",
    "print(fake.text())"
   ]
  },
  {
   "cell_type": "code",
   "execution_count": 17,
   "id": "e0058171",
   "metadata": {},
   "outputs": [
    {
     "name": "stdout",
     "output_type": "stream",
     "text": [
      "                                        job                         company  \\\n",
      "0       Exhibitions officer, museum/gallery                 Cooley-Castillo   \n",
      "1  Conservation officer, historic buildings       Davis, Nelson and Burnett   \n",
      "2               Civil engineer, contracting                 Lewis-Hernandez   \n",
      "3                Contracting civil engineer                      Farmer PLC   \n",
      "4                      Newspaper journalist  Griffin, Thompson and Peterson   \n",
      "\n",
      "           ssn                                          residence  \\\n",
      "0  160-46-6947      153 Rodgers Spring\\nPort Shaneshire, WI 46586   \n",
      "1  295-45-8330  0257 Marshall Place Suite 320\\nHughesland, IA ...   \n",
      "2  203-45-9234     8387 Weber Mount\\nSouth Cristinaport, CO 65011   \n",
      "3  175-37-3783  2490 Michael Summit Apt. 449\\nPort Shane, ND 0...   \n",
      "4  658-23-1283            9684 Moon Haven\\nPort William, MS 12460   \n",
      "\n",
      "            current_location blood_group  \\\n",
      "0    (61.960337, 146.496894)          A-   \n",
      "1   (23.501508, -129.297248)          B-   \n",
      "2     (67.974987, 70.736212)          O-   \n",
      "3  (-85.899434, -149.627654)          A-   \n",
      "4   (48.4254615, -30.327160)          B+   \n",
      "\n",
      "                                             website   username  \\\n",
      "0      [https://kline.com/, https://owen-hayes.com/]    tbryant   \n",
      "1  [http://jackson.info/, https://www.fitzpatrick...  william03   \n",
      "2  [http://www.burns-pham.com/, https://www.edwar...      fhall   \n",
      "3  [https://www.smith.com/, http://www.james.com/...    jconner   \n",
      "4  [https://www.serrano.com/, http://jones-collie...    sarah94   \n",
      "\n",
      "              name sex                                            address  \\\n",
      "0  Michael Stewart   M  98152 Stewart Track Suite 171\\nNorth Krystalmo...   \n",
      "1    Karen Griffin   F  1424 Stephen Squares Suite 433\\nNorth Jay, AR ...   \n",
      "2     Jessica Rose   F           79781 Mark Unions\\nRobertburgh, NY 92100   \n",
      "3    Vanessa Riley   F  73282 Sandra Mount Suite 660\\nDouglasside, WY ...   \n",
      "4     Tristan Webb   M      99414 Michael Rest\\nNorth Alexander, FL 88385   \n",
      "\n",
      "                     mail   birthdate  \n",
      "0        kscott@gmail.com  1923-05-04  \n",
      "1     awright@hotmail.com  1940-05-25  \n",
      "2   darylhall@hotmail.com  2022-05-15  \n",
      "3  kylegeorge@hotmail.com  1975-11-26  \n",
      "4     caitlyn99@gmail.com  1932-10-19  \n"
     ]
    }
   ],
   "source": [
    "data = [fake.profile() for i in range(20)]\n",
    "data = pd.DataFrame(data)\n",
    "print(data.head())"
   ]
  },
  {
   "cell_type": "code",
   "execution_count": null,
   "id": "04202d1e",
   "metadata": {},
   "outputs": [],
   "source": []
  }
 ],
 "metadata": {
  "kernelspec": {
   "display_name": "Python 3 (ipykernel)",
   "language": "python",
   "name": "python3"
  },
  "language_info": {
   "codemirror_mode": {
    "name": "ipython",
    "version": 3
   },
   "file_extension": ".py",
   "mimetype": "text/x-python",
   "name": "python",
   "nbconvert_exporter": "python",
   "pygments_lexer": "ipython3",
   "version": "3.9.15"
  }
 },
 "nbformat": 4,
 "nbformat_minor": 5
}
