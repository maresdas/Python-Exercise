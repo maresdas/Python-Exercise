{
 "cells": [
  {
   "cell_type": "code",
   "execution_count": 4,
   "id": "102406f2",
   "metadata": {},
   "outputs": [],
   "source": [
    "words = []\n",
    "with open(\"DataScience.rtf\", \"r\") as file: #The  \"r\" mode means open file for reading\n",
    "    for line in file:\n",
    "        words.extend(line.split())"
   ]
  },
  {
   "cell_type": "code",
   "execution_count": 7,
   "id": "ef5109e8",
   "metadata": {},
   "outputs": [
    {
     "name": "stdout",
     "output_type": "stream",
     "text": [
      "[('and', 14), ('science', 9), ('a', 8), ('as', 7), ('is', 6)]\n"
     ]
    }
   ],
   "source": [
    "from collections import Counter\n",
    "counts = Counter(words)\n",
    "top5 = counts.most_common(5)\n",
    "print(top5)"
   ]
  },
  {
   "cell_type": "code",
   "execution_count": null,
   "id": "f013369c",
   "metadata": {},
   "outputs": [],
   "source": []
  }
 ],
 "metadata": {
  "kernelspec": {
   "display_name": "Python 3 (ipykernel)",
   "language": "python",
   "name": "python3"
  },
  "language_info": {
   "codemirror_mode": {
    "name": "ipython",
    "version": 3
   },
   "file_extension": ".py",
   "mimetype": "text/x-python",
   "name": "python",
   "nbconvert_exporter": "python",
   "pygments_lexer": "ipython3",
   "version": "3.9.15"
  }
 },
 "nbformat": 4,
 "nbformat_minor": 5
}
