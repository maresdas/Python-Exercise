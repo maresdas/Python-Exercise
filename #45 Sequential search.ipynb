{
 "cells": [
  {
   "cell_type": "code",
   "execution_count": 9,
   "id": "72002d33",
   "metadata": {},
   "outputs": [],
   "source": [
    "def sequential_search(list_, n):\n",
    "    found = False\n",
    "    #define a for loop function to check every value in the list\n",
    "    for i in list_:\n",
    "        #define a conditional statement where i equals to the number we're looking for\n",
    "        if i == n:\n",
    "            #if the number is found, then stop the search\n",
    "            found = True\n",
    "            break\n",
    "    return found        "
   ]
  },
  {
   "cell_type": "code",
   "execution_count": 10,
   "id": "50b7ab2c",
   "metadata": {},
   "outputs": [
    {
     "name": "stdout",
     "output_type": "stream",
     "text": [
      "True\n"
     ]
    }
   ],
   "source": [
    "numbers = list(range(0, 20))\n",
    "print(sequential_search(numbers, 17))"
   ]
  },
  {
   "cell_type": "code",
   "execution_count": 11,
   "id": "d09e0c3f",
   "metadata": {},
   "outputs": [
    {
     "name": "stdout",
     "output_type": "stream",
     "text": [
      "False\n"
     ]
    }
   ],
   "source": [
    "numbers = list(range(0, 20))\n",
    "print(sequential_search(numbers, 25))"
   ]
  },
  {
   "cell_type": "code",
   "execution_count": null,
   "id": "b4c5afaa",
   "metadata": {},
   "outputs": [],
   "source": []
  }
 ],
 "metadata": {
  "kernelspec": {
   "display_name": "Python 3 (ipykernel)",
   "language": "python",
   "name": "python3"
  },
  "language_info": {
   "codemirror_mode": {
    "name": "ipython",
    "version": 3
   },
   "file_extension": ".py",
   "mimetype": "text/x-python",
   "name": "python",
   "nbconvert_exporter": "python",
   "pygments_lexer": "ipython3",
   "version": "3.9.15"
  }
 },
 "nbformat": 4,
 "nbformat_minor": 5
}
