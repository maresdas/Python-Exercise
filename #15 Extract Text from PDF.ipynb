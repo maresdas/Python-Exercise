{
 "cells": [
  {
   "cell_type": "code",
   "execution_count": 2,
   "id": "21cd9fe8",
   "metadata": {},
   "outputs": [],
   "source": [
    "#PyPDF2 is a free and open-source pure-python PDF library capable of splitting, merginf, cropping, and transforming the page of PDF files\n",
    "import PyPDF2"
   ]
  },
  {
   "cell_type": "code",
   "execution_count": 15,
   "id": "c415886c",
   "metadata": {},
   "outputs": [
    {
     "name": "stdout",
     "output_type": "stream",
     "text": [
      "503  S O U T H W E S T  P K W Y  A P T # 0 2 1 3 ,  C O L L E G E  S T A T I O N ,  TX-77840 , \n",
      "U N I T E D  S T A T E S  \n",
      "P H O N E  + 1  ( 9 7 9 ) 7 3 9 -2768 • E-M A I L  M A R E S D A . S A T R I A @ G M A I L . C O M  \n",
      "M A R E S D A  S A T R I A  \n",
      "OBJECTIVE  \n",
      "A performance -driven research associate at Texas A&M Transportation Institute with more than a year of \n",
      "working experience in performing data collection and analysis  who strives  to learn more about data science \n",
      "skills . I am ready to transition into a new ro le that implements artificial intelligence through data science skills \n",
      "especially the one that integrates my previous educational background in Ocean Engineering and Project \n",
      "Management.  \n",
      " \n",
      "EDUCATION  \n",
      "Norwegian University of Science and Technology  (NTNU)  Trondheim, Norway  \n",
      "M.Sc. in Project Management  \n",
      "Graduation date: September 19, 2019  \n",
      "Thesis title: Managing Uncertainty of Cost Estimation in Norwegian Shipbuilding  \n",
      "Sepuluh Nopember Institute of Technology (ITS)  Surabaya, Indonesia  \n",
      "B.Eng. in Ocean Engineering  \n",
      "Graduation date: August 21, 2013  \n",
      "Thesis title: Failure Analysis due to Fracture in Connection of Pontoon and Column at Semi -Submersible \n",
      "Essar Wildcat Structure  \n",
      " \n",
      "WORK EXPERIENCE  \n",
      "Texas A&M Transportation Institute  Texas, United States  \n",
      "October 2021 – February 2022 (Part -time)  \n",
      "February 2021 – Present (Full -time)  \n",
      "Research Associate  in a Flexible Pavement division  \n",
      "◼ Performing fieldwork , including  installation, maintenance, and removal of traffic sensor devices  used \n",
      "to record  road traffic and vehicle characterization data \n",
      "◼ Performing data analysis  on road traffic and vehicle weight data , including:  \n",
      "o Raw d ata collection  \n",
      "o Raw d ata cleaning using Microsoft Excel and Python  \n",
      "o Quality control , using Microsoft Excel and Python.  \n",
      "◼ Procurement and inventory management  \n",
      "◼ Laboratory testing and experiments  \n",
      "◼ Writing report and academic paper (literature review)  \n",
      "◼ Assisting in preparing proposals, written reports, and presentations . \n",
      " \n",
      "Norwegian University of Science and Technology  (NTNU)  Trondheim, Norway  \n",
      "January 2019 – April 2019  (Part -time)  \n",
      "Student Assistant  in Performance and Quality Management Course  \n",
      "◼ Assisted students in finding a solution for the course assignments  \n",
      "◼ Graded the assignments  \n",
      " \n",
      " \n",
      " \n"
     ]
    }
   ],
   "source": [
    "pdf = open(\"CurriculumVitae.pdf\", \"rb\") #\"rb\" option opens the file in binary format for reading\n",
    "reader = PyPDF2.PdfReader(pdf)\n",
    "page = reader.pages[0] #.pages[] method is used to help us specify the page number we want to extract text from\n",
    "print(page.extract_text())"
   ]
  },
  {
   "cell_type": "code",
   "execution_count": null,
   "id": "bc386bf5",
   "metadata": {},
   "outputs": [],
   "source": []
  }
 ],
 "metadata": {
  "kernelspec": {
   "display_name": "Python 3 (ipykernel)",
   "language": "python",
   "name": "python3"
  },
  "language_info": {
   "codemirror_mode": {
    "name": "ipython",
    "version": 3
   },
   "file_extension": ".py",
   "mimetype": "text/x-python",
   "name": "python",
   "nbconvert_exporter": "python",
   "pygments_lexer": "ipython3",
   "version": "3.9.15"
  }
 },
 "nbformat": 4,
 "nbformat_minor": 5
}
