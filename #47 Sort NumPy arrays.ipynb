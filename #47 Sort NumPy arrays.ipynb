{
 "cells": [
  {
   "cell_type": "code",
   "execution_count": 5,
   "id": "7e6036f9",
   "metadata": {},
   "outputs": [],
   "source": [
    "import numpy as np\n",
    "a = np.array([17, 42, 3, 51, 27])"
   ]
  },
  {
   "cell_type": "markdown",
   "id": "2e850709",
   "metadata": {},
   "source": [
    "#### Using NumPy inbuild function for sorting the values inside a NumPy array"
   ]
  },
  {
   "cell_type": "code",
   "execution_count": 6,
   "id": "81770e46",
   "metadata": {},
   "outputs": [
    {
     "name": "stdout",
     "output_type": "stream",
     "text": [
      "[ 3 17 27 42 51]\n"
     ]
    }
   ],
   "source": [
    "print(np.sort(a))"
   ]
  },
  {
   "cell_type": "markdown",
   "id": "825c1e10",
   "metadata": {},
   "source": [
    "#### Without using any sort function"
   ]
  },
  {
   "cell_type": "code",
   "execution_count": 7,
   "id": "50fc6a72",
   "metadata": {},
   "outputs": [
    {
     "name": "stdout",
     "output_type": "stream",
     "text": [
      "[ 3 17 27 42 51]\n"
     ]
    }
   ],
   "source": [
    "def sorting(x):\n",
    "    for i in range(len(x)):\n",
    "        #argmin returns the indices of the minimum values along an axis\n",
    "        swap = i + np.argmin(x[i:])\n",
    "        #then the variables is swap by putting the least value in the left side\n",
    "        (x[i], x[swap]) = (x[swap], x[i])\n",
    "    return x\n",
    "print(sorting(a))"
   ]
  },
  {
   "cell_type": "code",
   "execution_count": null,
   "id": "ed1a1822",
   "metadata": {},
   "outputs": [],
   "source": []
  }
 ],
 "metadata": {
  "kernelspec": {
   "display_name": "Python 3 (ipykernel)",
   "language": "python",
   "name": "python3"
  },
  "language_info": {
   "codemirror_mode": {
    "name": "ipython",
    "version": 3
   },
   "file_extension": ".py",
   "mimetype": "text/x-python",
   "name": "python",
   "nbconvert_exporter": "python",
   "pygments_lexer": "ipython3",
   "version": "3.9.15"
  }
 },
 "nbformat": 4,
 "nbformat_minor": 5
}
