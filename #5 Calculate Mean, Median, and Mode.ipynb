{
 "cells": [
  {
   "cell_type": "code",
   "execution_count": 21,
   "id": "ea55c993",
   "metadata": {},
   "outputs": [],
   "source": [
    "list1 = [12, 16, 20, 20, 12, 30, 25, 23, 24, 20]"
   ]
  },
  {
   "cell_type": "markdown",
   "id": "4ebed66b",
   "metadata": {},
   "source": [
    "### Mean"
   ]
  },
  {
   "cell_type": "code",
   "execution_count": 22,
   "id": "4d76cb9c",
   "metadata": {},
   "outputs": [
    {
     "name": "stdout",
     "output_type": "stream",
     "text": [
      "20.2\n"
     ]
    }
   ],
   "source": [
    "mean = sum(list1)/len(list1)\n",
    "print(mean)"
   ]
  },
  {
   "cell_type": "markdown",
   "id": "dbcbc63e",
   "metadata": {},
   "source": [
    "### Median"
   ]
  },
  {
   "cell_type": "code",
   "execution_count": 23,
   "id": "8f904b38",
   "metadata": {},
   "outputs": [],
   "source": [
    "list1.sort()"
   ]
  },
  {
   "cell_type": "code",
   "execution_count": 24,
   "id": "83fe0137",
   "metadata": {},
   "outputs": [
    {
     "name": "stdout",
     "output_type": "stream",
     "text": [
      "20.0\n"
     ]
    }
   ],
   "source": [
    "if len(list1) % 2 == 0:\n",
    "    m1 = list1[len(list1)//2]\n",
    "    m2 = list1[len(list1)//2 - 1]\n",
    "    median = (m1 + m2)/2\n",
    "else:\n",
    "    median = list1[len(list1)//2]\n",
    "print(median)"
   ]
  },
  {
   "cell_type": "markdown",
   "id": "043a3235",
   "metadata": {},
   "source": [
    "### Mode"
   ]
  },
  {
   "cell_type": "code",
   "execution_count": 25,
   "id": "63938820",
   "metadata": {},
   "outputs": [
    {
     "name": "stdout",
     "output_type": "stream",
     "text": [
      "20\n"
     ]
    }
   ],
   "source": [
    "frequency = {}\n",
    "for i in list1:\n",
    "    frequency.setdefault(i, 0)\n",
    "    frequency[i]+=1\n",
    "    \n",
    "frequent = max(frequency.values())\n",
    "for i, j in frequency.items():\n",
    "    if j == frequent:\n",
    "        mode = i\n",
    "print(mode)"
   ]
  },
  {
   "cell_type": "code",
   "execution_count": null,
   "id": "132e60a8",
   "metadata": {},
   "outputs": [],
   "source": []
  }
 ],
 "metadata": {
  "kernelspec": {
   "display_name": "Python 3 (ipykernel)",
   "language": "python",
   "name": "python3"
  },
  "language_info": {
   "codemirror_mode": {
    "name": "ipython",
    "version": 3
   },
   "file_extension": ".py",
   "mimetype": "text/x-python",
   "name": "python",
   "nbconvert_exporter": "python",
   "pygments_lexer": "ipython3",
   "version": "3.9.6"
  }
 },
 "nbformat": 4,
 "nbformat_minor": 5
}
