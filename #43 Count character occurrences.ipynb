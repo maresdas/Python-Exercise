{
 "cells": [
  {
   "cell_type": "code",
   "execution_count": 7,
   "id": "6df90e4b",
   "metadata": {},
   "outputs": [],
   "source": [
    "def count_character(s):\n",
    "    count = {}\n",
    "    for i in s:\n",
    "        if i in count:\n",
    "            count[i] += 1\n",
    "        else:\n",
    "            count[i] = 1\n",
    "    print(count)"
   ]
  },
  {
   "cell_type": "code",
   "execution_count": 8,
   "id": "da5f1221",
   "metadata": {},
   "outputs": [
    {
     "name": "stdout",
     "output_type": "stream",
     "text": [
      "{'Y': 1, 'o': 3, 'u': 1, ' ': 5, 'a': 4, 'r': 1, 'e': 2, 'g': 1, 'd': 2, 't': 3, 's': 2, 'c': 1, 'i': 2, 'n': 1, '!': 1}\n",
      "None\n"
     ]
    }
   ],
   "source": [
    "print(count_character(\"You are a good data scientist!\"))"
   ]
  },
  {
   "cell_type": "code",
   "execution_count": null,
   "id": "a7fa4b28",
   "metadata": {},
   "outputs": [],
   "source": []
  }
 ],
 "metadata": {
  "kernelspec": {
   "display_name": "Python 3 (ipykernel)",
   "language": "python",
   "name": "python3"
  },
  "language_info": {
   "codemirror_mode": {
    "name": "ipython",
    "version": 3
   },
   "file_extension": ".py",
   "mimetype": "text/x-python",
   "name": "python",
   "nbconvert_exporter": "python",
   "pygments_lexer": "ipython3",
   "version": "3.9.15"
  }
 },
 "nbformat": 4,
 "nbformat_minor": 5
}
