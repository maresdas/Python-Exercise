{
 "cells": [
  {
   "cell_type": "code",
   "execution_count": 1,
   "id": "ce47a3e5",
   "metadata": {},
   "outputs": [],
   "source": [
    "list = [\"Mares\", \"Resda\", \"Satri\", \"Atria\", \"Tria\"]"
   ]
  },
  {
   "cell_type": "code",
   "execution_count": 3,
   "id": "4dfb844a",
   "metadata": {},
   "outputs": [
    {
     "name": "stdout",
     "output_type": "stream",
     "text": [
      "Tria\n",
      "Atria\n",
      "Satri\n",
      "Resda\n",
      "Mares\n"
     ]
    }
   ],
   "source": [
    "#use a Python inbuilt function to reverse the order\n",
    "for i in reversed(list):\n",
    "    print(i)\n"
   ]
  },
  {
   "cell_type": "code",
   "execution_count": null,
   "id": "9d39869c",
   "metadata": {},
   "outputs": [],
   "source": []
  }
 ],
 "metadata": {
  "kernelspec": {
   "display_name": "Python 3 (ipykernel)",
   "language": "python",
   "name": "python3"
  },
  "language_info": {
   "codemirror_mode": {
    "name": "ipython",
    "version": 3
   },
   "file_extension": ".py",
   "mimetype": "text/x-python",
   "name": "python",
   "nbconvert_exporter": "python",
   "pygments_lexer": "ipython3",
   "version": "3.9.15"
  }
 },
 "nbformat": 4,
 "nbformat_minor": 5
}
