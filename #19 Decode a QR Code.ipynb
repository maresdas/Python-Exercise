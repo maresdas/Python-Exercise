{
 "cells": [
  {
   "cell_type": "code",
   "execution_count": 3,
   "id": "c0824d4a",
   "metadata": {},
   "outputs": [],
   "source": [
    "#pyzbar is a library to read one-dimensional barcodes or QR code. After we install pyzbar with PIP, we need to to install zbar using homebrew in order to make it works\n",
    "from pyzbar.pyzbar import decode\n",
    "#PIL is Python Imaging Library that adds image prcessong capabilities to our Python interpreter \n",
    "from PIL import Image"
   ]
  },
  {
   "cell_type": "code",
   "execution_count": 4,
   "id": "abb53ab0",
   "metadata": {},
   "outputs": [
    {
     "name": "stdout",
     "output_type": "stream",
     "text": [
      "https://www.linkedin.com/in/maresda-satria-8448a158/?original_referer=\n"
     ]
    }
   ],
   "source": [
    "decodeQR = decode(Image.open('linkedin.png'))\n",
    "print(decodeQR[0].data.decode('ascii'))"
   ]
  },
  {
   "cell_type": "code",
   "execution_count": null,
   "id": "aa0e9249",
   "metadata": {},
   "outputs": [],
   "source": []
  }
 ],
 "metadata": {
  "kernelspec": {
   "display_name": "Python 3 (ipykernel)",
   "language": "python",
   "name": "python3"
  },
  "language_info": {
   "codemirror_mode": {
    "name": "ipython",
    "version": 3
   },
   "file_extension": ".py",
   "mimetype": "text/x-python",
   "name": "python",
   "nbconvert_exporter": "python",
   "pygments_lexer": "ipython3",
   "version": "3.9.15"
  }
 },
 "nbformat": 4,
 "nbformat_minor": 5
}
