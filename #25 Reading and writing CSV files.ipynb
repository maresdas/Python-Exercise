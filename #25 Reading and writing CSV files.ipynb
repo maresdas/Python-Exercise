{
 "cells": [
  {
   "cell_type": "code",
   "execution_count": 1,
   "id": "3619f319",
   "metadata": {},
   "outputs": [],
   "source": [
    "import csv\n",
    "import pandas as pd"
   ]
  },
  {
   "cell_type": "code",
   "execution_count": 4,
   "id": "ea860e7e",
   "metadata": {},
   "outputs": [
    {
     "name": "stdout",
     "output_type": "stream",
     "text": [
      "    Name  Age\n",
      "0    Mar   25\n",
      "1  Resda   17\n",
      "2  Mares   23\n",
      "3  Dasat   29\n",
      "4  Satri   31\n"
     ]
    }
   ],
   "source": [
    "data= {\"Name\" : [\"Mar\", \"Resda\", \"Mares\", \"Dasat\", \"Satri\", \"Tria\"], \"Age\" : [25, 17, 23, 29, 31, 22]}\n",
    "data = pd.DataFrame(data)\n",
    "#write a csv file\n",
    "data.to_csv(\"age_data.csv\", index=False)\n",
    "print(data.head())"
   ]
  },
  {
   "cell_type": "code",
   "execution_count": 5,
   "id": "7f5d33b1",
   "metadata": {},
   "outputs": [
    {
     "name": "stdout",
     "output_type": "stream",
     "text": [
      "    Name  Age\n",
      "0    Mar   25\n",
      "1  Resda   17\n",
      "2  Mares   23\n",
      "3  Dasat   29\n",
      "4  Satri   31\n"
     ]
    }
   ],
   "source": [
    "#read a csv file\n",
    "data = pd.read_csv(\"age_data.csv\")\n",
    "print(data.head())"
   ]
  },
  {
   "cell_type": "code",
   "execution_count": null,
   "id": "1d0a684d",
   "metadata": {},
   "outputs": [],
   "source": []
  }
 ],
 "metadata": {
  "kernelspec": {
   "display_name": "Python 3 (ipykernel)",
   "language": "python",
   "name": "python3"
  },
  "language_info": {
   "codemirror_mode": {
    "name": "ipython",
    "version": 3
   },
   "file_extension": ".py",
   "mimetype": "text/x-python",
   "name": "python",
   "nbconvert_exporter": "python",
   "pygments_lexer": "ipython3",
   "version": "3.9.15"
  }
 },
 "nbformat": 4,
 "nbformat_minor": 5
}
