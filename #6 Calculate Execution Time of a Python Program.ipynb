{
 "cells": [
  {
   "cell_type": "markdown",
   "id": "7dea514a",
   "metadata": {},
   "source": [
    "#### Start time"
   ]
  },
  {
   "cell_type": "code",
   "execution_count": 1,
   "id": "d191dcbe",
   "metadata": {},
   "outputs": [],
   "source": [
    "from time import time\n",
    "start = time()"
   ]
  },
  {
   "cell_type": "markdown",
   "id": "1d3072ab",
   "metadata": {},
   "source": [
    "#### Python program to create acronyms"
   ]
  },
  {
   "cell_type": "code",
   "execution_count": 2,
   "id": "f10c7e40",
   "metadata": {},
   "outputs": [
    {
     "name": "stdout",
     "output_type": "stream",
     "text": [
      " YCDI\n"
     ]
    }
   ],
   "source": [
    "word = \"You can do it\"\n",
    "text = word.split()\n",
    "a = \" \"\n",
    "for i in text:\n",
    "    a = a + str(i[0]).upper()\n",
    "print(a)"
   ]
  },
  {
   "cell_type": "markdown",
   "id": "0a33333f",
   "metadata": {},
   "source": [
    "#### End time"
   ]
  },
  {
   "cell_type": "code",
   "execution_count": 3,
   "id": "256c5814",
   "metadata": {},
   "outputs": [
    {
     "name": "stdout",
     "output_type": "stream",
     "text": [
      "Execution Time :  0.024654150009155273\n"
     ]
    }
   ],
   "source": [
    "end = time()\n",
    "execution_time = end - start\n",
    "print(\"Execution Time : \", execution_time)"
   ]
  }
 ],
 "metadata": {
  "kernelspec": {
   "display_name": "Python 3 (ipykernel)",
   "language": "python",
   "name": "python3"
  },
  "language_info": {
   "codemirror_mode": {
    "name": "ipython",
    "version": 3
   },
   "file_extension": ".py",
   "mimetype": "text/x-python",
   "name": "python",
   "nbconvert_exporter": "python",
   "pygments_lexer": "ipython3",
   "version": "3.9.6"
  }
 },
 "nbformat": 4,
 "nbformat_minor": 5
}
