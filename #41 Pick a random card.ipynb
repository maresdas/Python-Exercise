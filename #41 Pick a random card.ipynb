{
 "cells": [
  {
   "cell_type": "code",
   "execution_count": 3,
   "id": "1a6ca778",
   "metadata": {},
   "outputs": [],
   "source": [
    "import random"
   ]
  },
  {
   "cell_type": "code",
   "execution_count": 9,
   "id": "e8aeb8e4",
   "metadata": {},
   "outputs": [],
   "source": [
    "cards = [\"Diamonds\", \"Spades\", \"Hearts\", \"Clubs\"]\n",
    "ranks = [2, 3, 4, 5, 6, 7, 8, 9, 10, \"Jack\", \"Queen\", \"King\", \"Ace\"]"
   ]
  },
  {
   "cell_type": "code",
   "execution_count": 10,
   "id": "632ff278",
   "metadata": {},
   "outputs": [],
   "source": [
    "def pick_a_card():\n",
    "    card = random.choices(cards)\n",
    "    rank = random.choices(ranks)\n",
    "    #the f-string is a formatting mechanism the same way as str.format()\n",
    "    return(f\"The {rank} of {card}\")"
   ]
  },
  {
   "cell_type": "code",
   "execution_count": 12,
   "id": "e7df15a3",
   "metadata": {},
   "outputs": [
    {
     "name": "stdout",
     "output_type": "stream",
     "text": [
      "The ['Jack'] of ['Diamonds']\n"
     ]
    }
   ],
   "source": [
    "print(pick_a_card())"
   ]
  }
 ],
 "metadata": {
  "kernelspec": {
   "display_name": "Python 3 (ipykernel)",
   "language": "python",
   "name": "python3"
  },
  "language_info": {
   "codemirror_mode": {
    "name": "ipython",
    "version": 3
   },
   "file_extension": ".py",
   "mimetype": "text/x-python",
   "name": "python",
   "nbconvert_exporter": "python",
   "pygments_lexer": "ipython3",
   "version": "3.9.15"
  }
 },
 "nbformat": 4,
 "nbformat_minor": 5
}
