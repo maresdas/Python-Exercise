{
 "cells": [
  {
   "cell_type": "code",
   "execution_count": 1,
   "id": "7b6dda32",
   "metadata": {},
   "outputs": [],
   "source": [
    "#import library\n",
    "import random as rd"
   ]
  },
  {
   "cell_type": "code",
   "execution_count": 4,
   "id": "3a4d3112",
   "metadata": {},
   "outputs": [
    {
     "name": "stdout",
     "output_type": "stream",
     "text": [
      "Select Rock, Paper, or Scissor: scissor\n",
      "Player 2 selected:  paper\n",
      "Player 1 Won\n"
     ]
    }
   ],
   "source": [
    "#define the player\n",
    "player1 = input(\"Select Rock, Paper, or Scissor: \").lower()\n",
    "player2 = rd.choice([\"Rock\", \"Paper\", \"Scissor\"]).lower()\n",
    "print(\"Player 2 selected: \", player2)\n",
    "\n",
    "#define the game's rule\n",
    "if player1 == \"rock\" and player2 == \"paper\":\n",
    "    print(\"Player 2 Won\")\n",
    "elif player1 == \"paper\" and player2 == \"scissor\":\n",
    "    print(\"Player 2 Won\")\n",
    "elif player1 == \"scissor\" and player2 == \"rock\":\n",
    "    print(\"Player 2 Won\")\n",
    "elif player1 == player2:\n",
    "    print(\"Tie\")\n",
    "else:\n",
    "    print(\"Player 1 Won\")"
   ]
  },
  {
   "cell_type": "code",
   "execution_count": null,
   "id": "37a32f3b",
   "metadata": {},
   "outputs": [],
   "source": []
  },
  {
   "cell_type": "code",
   "execution_count": null,
   "id": "759b0203",
   "metadata": {},
   "outputs": [],
   "source": []
  },
  {
   "cell_type": "code",
   "execution_count": null,
   "id": "73bed5d7",
   "metadata": {},
   "outputs": [],
   "source": []
  },
  {
   "cell_type": "code",
   "execution_count": null,
   "id": "456b2f74",
   "metadata": {},
   "outputs": [],
   "source": []
  }
 ],
 "metadata": {
  "kernelspec": {
   "display_name": "Python 3 (ipykernel)",
   "language": "python",
   "name": "python3"
  },
  "language_info": {
   "codemirror_mode": {
    "name": "ipython",
    "version": 3
   },
   "file_extension": ".py",
   "mimetype": "text/x-python",
   "name": "python",
   "nbconvert_exporter": "python",
   "pygments_lexer": "ipython3",
   "version": "3.9.6"
  }
 },
 "nbformat": 4,
 "nbformat_minor": 5
}
