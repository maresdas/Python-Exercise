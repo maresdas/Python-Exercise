{
 "cells": [
  {
   "cell_type": "code",
   "execution_count": 21,
   "id": "0117d278",
   "metadata": {},
   "outputs": [],
   "source": [
    "#palindrome words are words that give the same result when we read the word from the beginning or the end\n",
    "def palindrome(sentence):\n",
    "    #first we need to remove all punctuation marks from the sentence\n",
    "    for i in (\",.'!?/><()[]{}'\"):\n",
    "        sentence = sentence.replace(i, \"\")\n",
    "        \n",
    "    #Set where the palindrome words will be stored\n",
    "    palindrome = []\n",
    "    \n",
    "    #Split the sentence into separated words\n",
    "    words = sentence.split(' ')\n",
    "    \n",
    "    #iterate the words\n",
    "    for word in words:\n",
    "        #set all the words into lowercase\n",
    "        word = word.lower()\n",
    "        #check if the word has the same result when we read from either end\n",
    "        if word == word[::-1]:\n",
    "            palindrome.append(word)\n",
    "    return palindrome"
   ]
  },
  {
   "cell_type": "code",
   "execution_count": 22,
   "id": "d6d160b9",
   "metadata": {},
   "outputs": [
    {
     "name": "stdout",
     "output_type": "stream",
     "text": [
      "Enter a sentence : AAA! I got the job as a data scientist. My mom and dad will be proud of me. LOL\n",
      "['aaa', 'i', 'a', 'mom', 'dad', 'lol']\n"
     ]
    }
   ],
   "source": [
    "sentence = input(\"Enter a sentence : \")\n",
    "print(palindrome(sentence))"
   ]
  },
  {
   "cell_type": "code",
   "execution_count": null,
   "id": "93485ffa",
   "metadata": {},
   "outputs": [],
   "source": []
  }
 ],
 "metadata": {
  "kernelspec": {
   "display_name": "Python 3 (ipykernel)",
   "language": "python",
   "name": "python3"
  },
  "language_info": {
   "codemirror_mode": {
    "name": "ipython",
    "version": 3
   },
   "file_extension": ".py",
   "mimetype": "text/x-python",
   "name": "python",
   "nbconvert_exporter": "python",
   "pygments_lexer": "ipython3",
   "version": "3.9.15"
  }
 },
 "nbformat": 4,
 "nbformat_minor": 5
}
