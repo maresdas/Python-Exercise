{
 "cells": [
  {
   "cell_type": "code",
   "execution_count": 2,
   "id": "287af222",
   "metadata": {},
   "outputs": [
    {
     "name": "stdout",
     "output_type": "stream",
     "text": [
      "6\n"
     ]
    }
   ],
   "source": [
    "def minimum(x):\n",
    "    minimum_index = 0\n",
    "    current_index = 1\n",
    "    while current_index < len(x):\n",
    "        if x[current_index] < x [minimum_index]:\n",
    "            minimum_index = current_index\n",
    "        current_index = current_index + 1\n",
    "    return minimum_index\n",
    "a = [45, 23, 76, 93, 27, 102, 13, 65, 33]\n",
    "print(minimum(a))"
   ]
  },
  {
   "cell_type": "code",
   "execution_count": null,
   "id": "baed15ff",
   "metadata": {},
   "outputs": [],
   "source": []
  }
 ],
 "metadata": {
  "kernelspec": {
   "display_name": "Python 3 (ipykernel)",
   "language": "python",
   "name": "python3"
  },
  "language_info": {
   "codemirror_mode": {
    "name": "ipython",
    "version": 3
   },
   "file_extension": ".py",
   "mimetype": "text/x-python",
   "name": "python",
   "nbconvert_exporter": "python",
   "pygments_lexer": "ipython3",
   "version": "3.9.15"
  }
 },
 "nbformat": 4,
 "nbformat_minor": 5
}
