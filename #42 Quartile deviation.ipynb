{
 "cells": [
  {
   "cell_type": "code",
   "execution_count": 5,
   "id": "0fec4dd6",
   "metadata": {},
   "outputs": [
    {
     "name": "stdout",
     "output_type": "stream",
     "text": [
      "[20, 25, 30, 35, 40, 45, 50, 55, 60, 65, 70, 75, 80, 85, 90, 95]\n"
     ]
    }
   ],
   "source": [
    "#NumPy is a library for adding support for large, multi-dimensional arrays and matrices, along eith a large collection\n",
    "#of high-level mathematical functions to operate on these arrays\n",
    "import numpy as np\n",
    "#the range() function returns a sequence of numbers, starting from 0 by default, and increments by 1 (by default), and\n",
    "#stops before a specified number. The syntax is range(start, stop, step)\n",
    "data = list(range(20, 100, 5))\n",
    "print(data)"
   ]
  },
  {
   "cell_type": "code",
   "execution_count": 6,
   "id": "27bfec4a",
   "metadata": {},
   "outputs": [
    {
     "name": "stdout",
     "output_type": "stream",
     "text": [
      "Quartile 1:  38.75\n",
      "Quartile 2:  57.5\n",
      "Quartile 3:  76.25\n"
     ]
    }
   ],
   "source": [
    "Q1 = np.quantile(data, 0.25)\n",
    "Q2 = np.quantile(data, 0.50)\n",
    "Q3 = np.quantile(data, 0.75)\n",
    "\n",
    "print(\"Quartile 1: \", Q1)\n",
    "print(\"Quartile 2: \", Q2)\n",
    "print(\"Quartile 3: \", Q3)"
   ]
  },
  {
   "cell_type": "code",
   "execution_count": 7,
   "id": "5534131e",
   "metadata": {},
   "outputs": [
    {
     "name": "stdout",
     "output_type": "stream",
     "text": [
      "18.75\n"
     ]
    }
   ],
   "source": [
    "def QuartileDeviation(a, b):\n",
    "    return (a-b)/2\n",
    "print(QuartileDeviation(Q3, Q1))"
   ]
  },
  {
   "cell_type": "code",
   "execution_count": null,
   "id": "d1a96747",
   "metadata": {},
   "outputs": [],
   "source": []
  }
 ],
 "metadata": {
  "kernelspec": {
   "display_name": "Python 3 (ipykernel)",
   "language": "python",
   "name": "python3"
  },
  "language_info": {
   "codemirror_mode": {
    "name": "ipython",
    "version": 3
   },
   "file_extension": ".py",
   "mimetype": "text/x-python",
   "name": "python",
   "nbconvert_exporter": "python",
   "pygments_lexer": "ipython3",
   "version": "3.9.15"
  }
 },
 "nbformat": 4,
 "nbformat_minor": 5
}
