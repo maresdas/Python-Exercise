{
 "cells": [
  {
   "cell_type": "code",
   "execution_count": 1,
   "id": "d5b22138",
   "metadata": {},
   "outputs": [],
   "source": [
    "from better_profanity import profanity"
   ]
  },
  {
   "cell_type": "code",
   "execution_count": 6,
   "id": "8379299a",
   "metadata": {},
   "outputs": [
    {
     "name": "stdout",
     "output_type": "stream",
     "text": [
      "**** you!! Leave me alone ****!! and ****!!\n"
     ]
    }
   ],
   "source": [
    "text = \"Fuck you!! Leave me alone bitch!! and piss off!!\"\n",
    "censored = profanity.censor(text)\n",
    "print(censored)"
   ]
  },
  {
   "cell_type": "code",
   "execution_count": null,
   "id": "e57c782a",
   "metadata": {},
   "outputs": [],
   "source": []
  }
 ],
 "metadata": {
  "kernelspec": {
   "display_name": "Python 3 (ipykernel)",
   "language": "python",
   "name": "python3"
  },
  "language_info": {
   "codemirror_mode": {
    "name": "ipython",
    "version": 3
   },
   "file_extension": ".py",
   "mimetype": "text/x-python",
   "name": "python",
   "nbconvert_exporter": "python",
   "pygments_lexer": "ipython3",
   "version": "3.9.15"
  }
 },
 "nbformat": 4,
 "nbformat_minor": 5
}
