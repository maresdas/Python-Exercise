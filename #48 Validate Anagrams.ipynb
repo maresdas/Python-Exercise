{
 "cells": [
  {
   "cell_type": "code",
   "execution_count": 2,
   "id": "ff8e1ed0",
   "metadata": {},
   "outputs": [
    {
     "name": "stdout",
     "output_type": "stream",
     "text": [
      "True\n",
      "True\n",
      "False\n"
     ]
    }
   ],
   "source": [
    "def anagram(word1, word2):\n",
    "    #set each word into lowercase\n",
    "    word1 = word1.lower()\n",
    "    word2 = word2.lower()\n",
    "    #each word is then sorted, and checked if both have identical letters composition\n",
    "    return sorted(word1) == sorted(word2)\n",
    "\n",
    "print(anagram(\"cinema\", \"iceman\"))\n",
    "print(anagram(\"cool\", \"loco\"))\n",
    "print(anagram(\"men\", \"women\"))"
   ]
  },
  {
   "cell_type": "code",
   "execution_count": null,
   "id": "43e05303",
   "metadata": {},
   "outputs": [],
   "source": []
  }
 ],
 "metadata": {
  "kernelspec": {
   "display_name": "Python 3 (ipykernel)",
   "language": "python",
   "name": "python3"
  },
  "language_info": {
   "codemirror_mode": {
    "name": "ipython",
    "version": 3
   },
   "file_extension": ".py",
   "mimetype": "text/x-python",
   "name": "python",
   "nbconvert_exporter": "python",
   "pygments_lexer": "ipython3",
   "version": "3.9.15"
  }
 },
 "nbformat": 4,
 "nbformat_minor": 5
}
