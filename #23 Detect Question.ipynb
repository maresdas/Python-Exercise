{
 "cells": [
  {
   "cell_type": "code",
   "execution_count": 6,
   "id": "10577d4f",
   "metadata": {},
   "outputs": [
    {
     "name": "stderr",
     "output_type": "stream",
     "text": [
      "[nltk_data] Downloading package punkt to\n",
      "[nltk_data]     /Users/maresdasatria/nltk_data...\n",
      "[nltk_data]   Unzipping tokenizers/punkt.zip.\n"
     ]
    },
    {
     "data": {
      "text/plain": [
       "True"
      ]
     },
     "execution_count": 6,
     "metadata": {},
     "output_type": "execute_result"
    }
   ],
   "source": [
    "#tokenizers divide strings into lists of substrings\n",
    "import nltk as nltk\n",
    "from nltk.tokenize import word_tokenize\n",
    "nltk.download('punkt')"
   ]
  },
  {
   "cell_type": "code",
   "execution_count": 11,
   "id": "cd82fca0",
   "metadata": {},
   "outputs": [
    {
     "name": "stdout",
     "output_type": "stream",
     "text": [
      "Input a sentence: Are you a bear\n",
      "This is a question!\n"
     ]
    }
   ],
   "source": [
    "#list all the question word indicator below in the question_words \n",
    "question_words = [\"what\", \"why\", \"when\", \"where\",\n",
    "                  \"name\", \"is\", \"how\", \"do\", \"does\",\n",
    "                  \"which\", \"are\", \"could\", \"would\", \n",
    "                  \"should\", \"has\", \"have\", \"whom\",\n",
    "                  \"whose\", \"don't\", \"aren't\", \"isn't\"]\n",
    "question = input(\"Input a sentence: \")\n",
    "question = question.lower()\n",
    "question = word_tokenize(question)\n",
    "\n",
    "if any(x in question[0] for x in question_words):\n",
    "    print (\"This is a question!\")\n",
    "else:\n",
    "    print(\"This is not a question!\")"
   ]
  },
  {
   "cell_type": "code",
   "execution_count": null,
   "id": "e91c9a6d",
   "metadata": {},
   "outputs": [],
   "source": []
  }
 ],
 "metadata": {
  "kernelspec": {
   "display_name": "Python 3 (ipykernel)",
   "language": "python",
   "name": "python3"
  },
  "language_info": {
   "codemirror_mode": {
    "name": "ipython",
    "version": 3
   },
   "file_extension": ".py",
   "mimetype": "text/x-python",
   "name": "python",
   "nbconvert_exporter": "python",
   "pygments_lexer": "ipython3",
   "version": "3.9.15"
  }
 },
 "nbformat": 4,
 "nbformat_minor": 5
}
