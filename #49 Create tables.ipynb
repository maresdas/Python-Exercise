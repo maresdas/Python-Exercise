{
 "cells": [
  {
   "cell_type": "code",
   "execution_count": 1,
   "id": "49a1df23",
   "metadata": {},
   "outputs": [
    {
     "name": "stdout",
     "output_type": "stream",
     "text": [
      "------  --------  ------\n",
      "Name    Place     Gender\n",
      "Mares   Malang    Male\n",
      "Resda   Jakarta   Male\n",
      "Satria  Surabaya  Male\n",
      "------  --------  ------\n"
     ]
    }
   ],
   "source": [
    "# tabulate is used to print tabular data in nicely formatted tables\n",
    "from tabulate import tabulate\n",
    "data = [[\"Name\", \"Place\", \"Gender\"], [\"Mares\", \"Malang\", \"Male\"], [\"Resda\", \"Jakarta\", \"Male\"], [\"Satria\", \"Surabaya\", \"Male\"]]\n",
    "print(tabulate(data))"
   ]
  },
  {
   "cell_type": "code",
   "execution_count": 2,
   "id": "45484d1f",
   "metadata": {},
   "outputs": [
    {
     "name": "stdout",
     "output_type": "stream",
     "text": [
      "Name    Place     Gender\n",
      "------  --------  --------\n",
      "Mares   Malang    Male\n",
      "Resda   Jakarta   Male\n",
      "Satria  Surabaya  Male\n"
     ]
    }
   ],
   "source": [
    "#set the first row as the header\n",
    "print(tabulate(data, headers='firstrow'))"
   ]
  },
  {
   "cell_type": "code",
   "execution_count": 3,
   "id": "1baa2fb7",
   "metadata": {},
   "outputs": [
    {
     "name": "stdout",
     "output_type": "stream",
     "text": [
      "+--------+----------+----------+\n",
      "| Name   | Place    | Gender   |\n",
      "+========+==========+==========+\n",
      "| Mares  | Malang   | Male     |\n",
      "+--------+----------+----------+\n",
      "| Resda  | Jakarta  | Male     |\n",
      "+--------+----------+----------+\n",
      "| Satria | Surabaya | Male     |\n",
      "+--------+----------+----------+\n"
     ]
    }
   ],
   "source": [
    "#set the table's grid\n",
    "print(tabulate(data, headers = 'firstrow', tablefmt = 'grid'))"
   ]
  },
  {
   "cell_type": "code",
   "execution_count": 4,
   "id": "0141117d",
   "metadata": {},
   "outputs": [
    {
     "name": "stdout",
     "output_type": "stream",
     "text": [
      "╒════════╤══════════╤══════════╕\n",
      "│ Name   │ Place    │ Gender   │\n",
      "╞════════╪══════════╪══════════╡\n",
      "│ Mares  │ Malang   │ Male     │\n",
      "├────────┼──────────┼──────────┤\n",
      "│ Resda  │ Jakarta  │ Male     │\n",
      "├────────┼──────────┼──────────┤\n",
      "│ Satria │ Surabaya │ Male     │\n",
      "╘════════╧══════════╧══════════╛\n"
     ]
    }
   ],
   "source": [
    "#other type of the table's grid\n",
    "print(tabulate(data, headers = 'firstrow', tablefmt = 'fancy_grid'))"
   ]
  },
  {
   "cell_type": "code",
   "execution_count": null,
   "id": "31e978c6",
   "metadata": {},
   "outputs": [],
   "source": []
  }
 ],
 "metadata": {
  "kernelspec": {
   "display_name": "Python 3 (ipykernel)",
   "language": "python",
   "name": "python3"
  },
  "language_info": {
   "codemirror_mode": {
    "name": "ipython",
    "version": 3
   },
   "file_extension": ".py",
   "mimetype": "text/x-python",
   "name": "python",
   "nbconvert_exporter": "python",
   "pygments_lexer": "ipython3",
   "version": "3.9.15"
  }
 },
 "nbformat": 4,
 "nbformat_minor": 5
}
