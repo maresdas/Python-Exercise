{
 "cells": [
  {
   "cell_type": "code",
   "execution_count": 1,
   "id": "b40f4842",
   "metadata": {},
   "outputs": [],
   "source": [
    "import pyqrcode\n",
    "import png"
   ]
  },
  {
   "cell_type": "code",
   "execution_count": 2,
   "id": "b1e04602",
   "metadata": {},
   "outputs": [],
   "source": [
    "link = \"https://www.linkedin.com/in/maresda-satria-8448a158/?original_referer=\"\n",
    "qr_code = pyqrcode.create(link)\n",
    "qr_code.png(\"linkedin.png\", scale = 5)"
   ]
  },
  {
   "cell_type": "code",
   "execution_count": null,
   "id": "751bcbf8",
   "metadata": {},
   "outputs": [],
   "source": []
  },
  {
   "cell_type": "code",
   "execution_count": null,
   "id": "98eb105a",
   "metadata": {},
   "outputs": [],
   "source": []
  }
 ],
 "metadata": {
  "kernelspec": {
   "display_name": "Python 3 (ipykernel)",
   "language": "python",
   "name": "python3"
  },
  "language_info": {
   "codemirror_mode": {
    "name": "ipython",
    "version": 3
   },
   "file_extension": ".py",
   "mimetype": "text/x-python",
   "name": "python",
   "nbconvert_exporter": "python",
   "pygments_lexer": "ipython3",
   "version": "3.9.15"
  }
 },
 "nbformat": 4,
 "nbformat_minor": 5
}
