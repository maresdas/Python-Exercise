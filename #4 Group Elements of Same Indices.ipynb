{
 "cells": [
  {
   "cell_type": "code",
   "execution_count": 19,
   "id": "d00227ab",
   "metadata": {},
   "outputs": [],
   "source": [
    "inputLists = [[10, 20, 30], [40, 50, 60], [70, 80, 90]]\n",
    "outputLists = []\n",
    "index = 0"
   ]
  },
  {
   "cell_type": "code",
   "execution_count": 20,
   "id": "cd801786",
   "metadata": {},
   "outputs": [
    {
     "name": "stdout",
     "output_type": "stream",
     "text": [
      "[10, 40, 70] [20, 50, 80] [30, 60, 90]\n"
     ]
    }
   ],
   "source": [
    "for i in range(len(inputLists[0])):\n",
    "    outputLists.append([])\n",
    "    for j in range(len(inputLists)):\n",
    "        outputLists[index].append(inputLists[j][index])\n",
    "    index = index + 1\n",
    "a, b, c = outputLists[0], outputLists[1], outputLists[2]\n",
    "print(a, b, c)"
   ]
  },
  {
   "cell_type": "code",
   "execution_count": null,
   "id": "4fd89ea1",
   "metadata": {},
   "outputs": [],
   "source": []
  },
  {
   "cell_type": "code",
   "execution_count": null,
   "id": "5b394f64",
   "metadata": {},
   "outputs": [],
   "source": []
  },
  {
   "cell_type": "code",
   "execution_count": null,
   "id": "c4b2a879",
   "metadata": {},
   "outputs": [],
   "source": []
  },
  {
   "cell_type": "code",
   "execution_count": null,
   "id": "0fac1ae5",
   "metadata": {},
   "outputs": [],
   "source": []
  },
  {
   "cell_type": "code",
   "execution_count": null,
   "id": "165eb689",
   "metadata": {},
   "outputs": [],
   "source": []
  },
  {
   "cell_type": "code",
   "execution_count": null,
   "id": "df6fa7e1",
   "metadata": {},
   "outputs": [],
   "source": []
  }
 ],
 "metadata": {
  "kernelspec": {
   "display_name": "Python 3 (ipykernel)",
   "language": "python",
   "name": "python3"
  },
  "language_info": {
   "codemirror_mode": {
    "name": "ipython",
    "version": 3
   },
   "file_extension": ".py",
   "mimetype": "text/x-python",
   "name": "python",
   "nbconvert_exporter": "python",
   "pygments_lexer": "ipython3",
   "version": "3.9.6"
  }
 },
 "nbformat": 4,
 "nbformat_minor": 5
}
