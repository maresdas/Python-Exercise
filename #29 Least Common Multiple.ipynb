{
 "cells": [
  {
   "cell_type": "code",
   "execution_count": 1,
   "id": "93a5366f",
   "metadata": {},
   "outputs": [
    {
     "name": "stdout",
     "output_type": "stream",
     "text": [
      "60\n"
     ]
    }
   ],
   "source": [
    "def least_common_multiple(a, b):\n",
    "    if a > b:\n",
    "        greater = a\n",
    "    elif b > a:\n",
    "        greater = b\n",
    "    while(True):\n",
    "        if ((greater % a == 0) and (greater % b == 0)):\n",
    "            lcm = greater\n",
    "            break\n",
    "        greater = greater + 1\n",
    "    return lcm\n",
    "\n",
    "print(least_common_multiple(10, 12))"
   ]
  },
  {
   "cell_type": "code",
   "execution_count": null,
   "id": "98192811",
   "metadata": {},
   "outputs": [],
   "source": []
  }
 ],
 "metadata": {
  "kernelspec": {
   "display_name": "Python 3 (ipykernel)",
   "language": "python",
   "name": "python3"
  },
  "language_info": {
   "codemirror_mode": {
    "name": "ipython",
    "version": 3
   },
   "file_extension": ".py",
   "mimetype": "text/x-python",
   "name": "python",
   "nbconvert_exporter": "python",
   "pygments_lexer": "ipython3",
   "version": "3.9.15"
  }
 },
 "nbformat": 4,
 "nbformat_minor": 5
}
