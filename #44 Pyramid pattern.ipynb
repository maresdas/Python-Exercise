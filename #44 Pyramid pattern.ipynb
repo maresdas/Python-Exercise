{
 "cells": [
  {
   "cell_type": "code",
   "execution_count": 46,
   "id": "c5515834",
   "metadata": {},
   "outputs": [
    {
     "name": "stdout",
     "output_type": "stream",
     "text": [
      "    ^ \r\n",
      "   ^ ^ \r\n",
      "  ^ ^ ^ \r\n",
      "None\n"
     ]
    }
   ],
   "source": [
    "def pyramid_pattern(n):\n",
    "    a = 2*n-2\n",
    "    #define the for loop funcrion for total \"n\" number of rows\n",
    "    for i in range(0, n):\n",
    "        #define the for loop function to print \"space\" in each row \n",
    "        for j in range(0, a):\n",
    "            print(end=\" \")\n",
    "        a=a-1\n",
    "        #define the for loop function for inserting \"^\" in each row\n",
    "        for j in range(0, i+1):\n",
    "            print(\"^\", end=\" \")\n",
    "        #return to the next row\n",
    "        print(\"\\r\")\n",
    "print(pyramid_pattern(3))"
   ]
  },
  {
   "cell_type": "code",
   "execution_count": null,
   "id": "b0e203be",
   "metadata": {},
   "outputs": [],
   "source": []
  }
 ],
 "metadata": {
  "kernelspec": {
   "display_name": "Python 3 (ipykernel)",
   "language": "python",
   "name": "python3"
  },
  "language_info": {
   "codemirror_mode": {
    "name": "ipython",
    "version": 3
   },
   "file_extension": ".py",
   "mimetype": "text/x-python",
   "name": "python",
   "nbconvert_exporter": "python",
   "pygments_lexer": "ipython3",
   "version": "3.9.15"
  }
 },
 "nbformat": 4,
 "nbformat_minor": 5
}
