{
 "cells": [
  {
   "cell_type": "code",
   "execution_count": 15,
   "id": "7b69ac22",
   "metadata": {},
   "outputs": [],
   "source": [
    "import pandas as pd"
   ]
  },
  {
   "cell_type": "code",
   "execution_count": 16,
   "id": "1a434d3c",
   "metadata": {},
   "outputs": [
    {
     "name": "stdout",
     "output_type": "stream",
     "text": [
      "   Demand  Price\n",
      "0      20   2000\n",
      "1      30   1800\n",
      "2      31   1850\n",
      "3      33   1700\n",
      "4      30   1800\n",
      "5      33   1700\n",
      "6      35   1600\n"
     ]
    }
   ],
   "source": [
    "data = pd.DataFrame({\"Demand\" : [20, 30, 31, 33, 30, 33, 35], \"Price\" : [2000, 1800, 1850, 1700, 1800, 1700, 1600]})\n",
    "print(data)"
   ]
  },
  {
   "cell_type": "code",
   "execution_count": 17,
   "id": "b346892b",
   "metadata": {},
   "outputs": [
    {
     "name": "stdout",
     "output_type": "stream",
     "text": [
      "   Demand  Price  % Change in Demand  % Change in Price\n",
      "0      20   2000                 NaN                NaN\n",
      "1      30   1800            0.500000          -0.100000\n",
      "2      31   1850            0.033333           0.027778\n",
      "3      33   1700            0.064516          -0.081081\n",
      "4      30   1800           -0.090909           0.058824\n",
      "5      33   1700            0.100000          -0.055556\n",
      "6      35   1600            0.060606          -0.058824\n"
     ]
    }
   ],
   "source": [
    "data[\"% Change in Demand\"] = data[\"Demand\"].pct_change()\n",
    "data[\"% Change in Price\"] = data [\"Price\"].pct_change()\n",
    "print(data)"
   ]
  },
  {
   "cell_type": "code",
   "execution_count": 18,
   "id": "3fccbc98",
   "metadata": {},
   "outputs": [
    {
     "name": "stdout",
     "output_type": "stream",
     "text": [
      "   Demand  Price  % Change in Demand  % Change in Price  Price Elasticity\n",
      "0      20   2000                 NaN                NaN               NaN\n",
      "1      30   1800            0.500000          -0.100000         -5.000000\n",
      "2      31   1850            0.033333           0.027778          1.200000\n",
      "3      33   1700            0.064516          -0.081081         -0.795699\n",
      "4      30   1800           -0.090909           0.058824         -1.545455\n",
      "5      33   1700            0.100000          -0.055556         -1.800000\n",
      "6      35   1600            0.060606          -0.058824         -1.030303\n"
     ]
    }
   ],
   "source": [
    "data[\"Price Elasticity\"] = data[\"% Change in Demand\"] / data[\"% Change in Price\"]\n",
    "print(data)"
   ]
  },
  {
   "cell_type": "code",
   "execution_count": null,
   "id": "06d111e8",
   "metadata": {},
   "outputs": [],
   "source": []
  }
 ],
 "metadata": {
  "kernelspec": {
   "display_name": "Python 3 (ipykernel)",
   "language": "python",
   "name": "python3"
  },
  "language_info": {
   "codemirror_mode": {
    "name": "ipython",
    "version": 3
   },
   "file_extension": ".py",
   "mimetype": "text/x-python",
   "name": "python",
   "nbconvert_exporter": "python",
   "pygments_lexer": "ipython3",
   "version": "3.9.15"
  }
 },
 "nbformat": 4,
 "nbformat_minor": 5
}
