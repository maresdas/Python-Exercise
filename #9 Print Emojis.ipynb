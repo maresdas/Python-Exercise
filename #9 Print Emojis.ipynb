{
 "cells": [
  {
   "cell_type": "code",
   "execution_count": 4,
   "id": "7c8fd233",
   "metadata": {},
   "outputs": [
    {
     "name": "stdout",
     "output_type": "stream",
     "text": [
      "Just code ⌨️, every day ☀️ and night 🌃, until you can land ⚓ in a tech job 👨‍🔬\n"
     ]
    }
   ],
   "source": [
    "#import the library\n",
    "import emoji as emj\n",
    "\n",
    "#print the emoji using emojize\n",
    "print(emj.emojize(\"Just code :keyboard:, every day :sun: and night :night_with_stars:, until you can land :anchor: in a tech job :man_scientist:\"))"
   ]
  },
  {
   "cell_type": "code",
   "execution_count": null,
   "id": "0a8c0f90",
   "metadata": {},
   "outputs": [],
   "source": []
  }
 ],
 "metadata": {
  "kernelspec": {
   "display_name": "Python 3 (ipykernel)",
   "language": "python",
   "name": "python3"
  },
  "language_info": {
   "codemirror_mode": {
    "name": "ipython",
    "version": 3
   },
   "file_extension": ".py",
   "mimetype": "text/x-python",
   "name": "python",
   "nbconvert_exporter": "python",
   "pygments_lexer": "ipython3",
   "version": "3.9.6"
  }
 },
 "nbformat": 4,
 "nbformat_minor": 5
}
