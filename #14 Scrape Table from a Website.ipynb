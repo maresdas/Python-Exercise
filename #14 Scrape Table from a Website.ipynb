{
 "cells": [
  {
   "cell_type": "code",
   "execution_count": 1,
   "id": "db1be138",
   "metadata": {},
   "outputs": [],
   "source": [
    "#urllib is a package that collects several modeules for working with URLs; urllib.request for opening and reading URLs\n",
    "import urllib.request\n",
    "import pandas as pd"
   ]
  },
  {
   "cell_type": "code",
   "execution_count": 6,
   "id": "0b8f96c8",
   "metadata": {},
   "outputs": [
    {
     "name": "stdout",
     "output_type": "stream",
     "text": [
      "    Websites Popularity (unique visitors per month)[1]  \\\n",
      "0  Google[2]                                2500000000   \n",
      "1   Facebook                                1120000000   \n",
      "2    YouTube                                1100000000   \n",
      "3      Yahoo                                 750000000   \n",
      "4       Etsy       516,000,000 (Total, not unique)[15]   \n",
      "\n",
      "  Front-end (Client-side)                             Back-end (Server-side)  \\\n",
      "0  JavaScript, TypeScript             C, C++, Go,[3] Java, Python, Node, PHP   \n",
      "1              JavaScript  Hack, PHP (HHVM), Python, C++, Java, Erlang, D...   \n",
      "2  JavaScript, TypeScript                           C, C++, Java,[11] Go[12]   \n",
      "3        JavaScript, HTML                                                PHP   \n",
      "4              JavaScript                                        PHP[16][17]   \n",
      "\n",
      "                                     Database  \\\n",
      "0                     Bigtable,[4] MariaDB[5]   \n",
      "1     MariaDB, MySQL,[9] HBase, Cassandra[10]   \n",
      "2            Vitess, BigTable, MariaDB[5][13]   \n",
      "3  PostgreSQL, HBase, Cassandra, MongoDB,[14]   \n",
      "4                            MySQL, Redis[18]   \n",
      "\n",
      "                                       Notes  \n",
      "0  The most used search engine in the world.  \n",
      "1   The most visited social networking site.  \n",
      "2       The most popular video sharing site.  \n",
      "3                                        NaN  \n",
      "4                        E-commerce website.  \n"
     ]
    }
   ],
   "source": [
    "url = \"https://en.wikipedia.org/wiki/Programming_languages_used_in_most_popular_websites\"\n",
    "with urllib.request.urlopen(url) as i:\n",
    "    html = i.read()\n",
    "\n",
    "data = pd.read_html(html)[0] #[0] This is the index location of the table (refer to as 1st table)\n",
    "print(data.head())"
   ]
  },
  {
   "cell_type": "code",
   "execution_count": 7,
   "id": "015ea672",
   "metadata": {},
   "outputs": [],
   "source": [
    "# save the above data as CSV file\n",
    "data.to_csv(\"14.scrape_table_from_a_website.csv\")"
   ]
  },
  {
   "cell_type": "code",
   "execution_count": null,
   "id": "5ea3e716",
   "metadata": {},
   "outputs": [],
   "source": []
  },
  {
   "cell_type": "code",
   "execution_count": null,
   "id": "86152ace",
   "metadata": {},
   "outputs": [],
   "source": []
  }
 ],
 "metadata": {
  "kernelspec": {
   "display_name": "Python 3 (ipykernel)",
   "language": "python",
   "name": "python3"
  },
  "language_info": {
   "codemirror_mode": {
    "name": "ipython",
    "version": 3
   },
   "file_extension": ".py",
   "mimetype": "text/x-python",
   "name": "python",
   "nbconvert_exporter": "python",
   "pygments_lexer": "ipython3",
   "version": "3.9.15"
  }
 },
 "nbformat": 4,
 "nbformat_minor": 5
}
